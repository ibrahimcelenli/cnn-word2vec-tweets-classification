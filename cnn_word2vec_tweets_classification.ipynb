{
 "cells": [
  {
   "cell_type": "code",
   "execution_count": null,
   "metadata": {
    "collapsed": true
   },
   "outputs": [],
   "source": [
    "#Mount your drive account into colab\n",
    "\n",
    "from google.colab import drive\n",
    "drive.mount('/content/drive/')"
   ]
  },
  {
   "cell_type": "code",
   "execution_count": 2,
   "metadata": {
    "colab": {
     "base_uri": "https://localhost:8080/",
     "height": 505
    },
    "colab_type": "code",
    "executionInfo": {
     "elapsed": 3072,
     "status": "ok",
     "timestamp": 1549307576586,
     "user": {
      "displayName": "halil ibrahim çelenli",
      "photoUrl": "https://lh5.googleusercontent.com/-5Qvr42waygs/AAAAAAAAAAI/AAAAAAAAB3U/8_RhbBZokq4/s64/photo.jpg",
      "userId": "10735351276472697566"
     },
     "user_tz": -180
    },
    "id": "j-HuycTr-ybX",
    "outputId": "26989ea1-7bc0-4d28-c69e-bb0b6e8ac033"
   },
   "outputs": [
    {
     "data": {
      "text/plain": [
       "[name: \"/device:CPU:0\"\n",
       " device_type: \"CPU\"\n",
       " memory_limit: 268435456\n",
       " locality {\n",
       " }\n",
       " incarnation: 244856023092305232, name: \"/device:XLA_CPU:0\"\n",
       " device_type: \"XLA_CPU\"\n",
       " memory_limit: 17179869184\n",
       " locality {\n",
       " }\n",
       " incarnation: 2116924701811871885\n",
       " physical_device_desc: \"device: XLA_CPU device\", name: \"/device:XLA_GPU:0\"\n",
       " device_type: \"XLA_GPU\"\n",
       " memory_limit: 17179869184\n",
       " locality {\n",
       " }\n",
       " incarnation: 12036471528599040419\n",
       " physical_device_desc: \"device: XLA_GPU device\", name: \"/device:GPU:0\"\n",
       " device_type: \"GPU\"\n",
       " memory_limit: 11275576935\n",
       " locality {\n",
       "   bus_id: 1\n",
       "   links {\n",
       "   }\n",
       " }\n",
       " incarnation: 5180903252744675762\n",
       " physical_device_desc: \"device: 0, name: Tesla K80, pci bus id: 0000:00:04.0, compute capability: 3.7\"]"
      ]
     },
     "execution_count": 2,
     "metadata": {
      "tags": []
     },
     "output_type": "execute_result"
    }
   ],
   "source": [
    "#The machine settings are listed.\n",
    "\n",
    "from tensorflow.python.client import device_lib\n",
    "device_lib.list_local_devices()"
   ]
  },
  {
   "cell_type": "code",
   "execution_count": 3,
   "metadata": {
    "colab": {
     "base_uri": "https://localhost:8080/",
     "height": 35
    },
    "colab_type": "code",
    "executionInfo": {
     "elapsed": 1051,
     "status": "ok",
     "timestamp": 1549307578807,
     "user": {
      "displayName": "halil ibrahim çelenli",
      "photoUrl": "https://lh5.googleusercontent.com/-5Qvr42waygs/AAAAAAAAAAI/AAAAAAAAB3U/8_RhbBZokq4/s64/photo.jpg",
      "userId": "10735351276472697566"
     },
     "user_tz": -180
    },
    "id": "b3PVXX0j-ynS",
    "outputId": "5f33c052-57cd-490f-f54a-d7b2c5908202"
   },
   "outputs": [
    {
     "data": {
      "text/plain": [
       "'/device:GPU:0'"
      ]
     },
     "execution_count": 3,
     "metadata": {
      "tags": []
     },
     "output_type": "execute_result"
    }
   ],
   "source": [
    "#Check the activated GPU device on remote machine\n",
    "\n",
    "import tensorflow as tf\n",
    "tf.test.gpu_device_name()"
   ]
  },
  {
   "cell_type": "code",
   "execution_count": 0,
   "metadata": {
    "colab": {},
    "colab_type": "code",
    "collapsed": true,
    "id": "OP0yrl1z-yp_"
   },
   "outputs": [],
   "source": [
    "#Change the directory to your workspace\n",
    "\n",
    "import os\n",
    "os.chdir('/content/drive/My Drive/cnn_word2vec_tweets_classification/')"
   ]
  },
  {
   "cell_type": "code",
   "execution_count": 6,
   "metadata": {
    "colab": {
     "base_uri": "https://localhost:8080/",
     "height": 905
    },
    "colab_type": "code",
    "executionInfo": {
     "elapsed": 17840,
     "status": "ok",
     "timestamp": 1549307603037,
     "user": {
      "displayName": "halil ibrahim çelenli",
      "photoUrl": "https://lh5.googleusercontent.com/-5Qvr42waygs/AAAAAAAAAAI/AAAAAAAAB3U/8_RhbBZokq4/s64/photo.jpg",
      "userId": "10735351276472697566"
     },
     "user_tz": -180
    },
    "id": "BDCNHJXO-yvB",
    "outputId": "f3ede111-35e4-4f58-f653-af4d38086945"
   },
   "outputs": [
    {
     "name": "stdout",
     "output_type": "stream",
     "text": [
      "Requirement already satisfied: tensorflow in /usr/local/lib/python3.6/dist-packages (1.13.0rc0)\n",
      "Requirement already satisfied: keras-preprocessing>=1.0.5 in /usr/local/lib/python3.6/dist-packages (from tensorflow) (1.0.8)\n",
      "Requirement already satisfied: termcolor>=1.1.0 in /usr/local/lib/python3.6/dist-packages (from tensorflow) (1.1.0)\n",
      "Requirement already satisfied: absl-py>=0.1.6 in /usr/local/lib/python3.6/dist-packages (from tensorflow) (0.7.0)\n",
      "Requirement already satisfied: keras-applications>=1.0.6 in /usr/local/lib/python3.6/dist-packages (from tensorflow) (1.0.7)\n",
      "Requirement already satisfied: gast>=0.2.0 in /usr/local/lib/python3.6/dist-packages (from tensorflow) (0.2.2)\n",
      "Requirement already satisfied: grpcio>=1.8.6 in /usr/local/lib/python3.6/dist-packages (from tensorflow) (1.15.0)\n",
      "Requirement already satisfied: numpy>=1.13.3 in /usr/local/lib/python3.6/dist-packages (from tensorflow) (1.14.6)\n",
      "Requirement already satisfied: tensorflow-estimator>=1.10.0 in /usr/local/lib/python3.6/dist-packages (from tensorflow) (1.10.12)\n",
      "Requirement already satisfied: protobuf>=3.6.1 in /usr/local/lib/python3.6/dist-packages (from tensorflow) (3.6.1)\n",
      "Requirement already satisfied: wheel>=0.26 in /usr/local/lib/python3.6/dist-packages (from tensorflow) (0.32.3)\n",
      "Requirement already satisfied: astor>=0.6.0 in /usr/local/lib/python3.6/dist-packages (from tensorflow) (0.7.1)\n",
      "Requirement already satisfied: tensorboard<1.13.0,>=1.12.0 in /usr/local/lib/python3.6/dist-packages (from tensorflow) (1.12.2)\n",
      "Requirement already satisfied: six>=1.10.0 in /usr/local/lib/python3.6/dist-packages (from tensorflow) (1.11.0)\n",
      "Requirement already satisfied: h5py in /usr/local/lib/python3.6/dist-packages (from keras-applications>=1.0.6->tensorflow) (2.8.0)\n",
      "Requirement already satisfied: mock>=2.0.0 in /usr/local/lib/python3.6/dist-packages (from tensorflow-estimator>=1.10.0->tensorflow) (2.0.0)\n",
      "Requirement already satisfied: setuptools in /usr/local/lib/python3.6/dist-packages (from protobuf>=3.6.1->tensorflow) (40.7.1)\n",
      "Requirement already satisfied: werkzeug>=0.11.10 in /usr/local/lib/python3.6/dist-packages (from tensorboard<1.13.0,>=1.12.0->tensorflow) (0.14.1)\n",
      "Requirement already satisfied: markdown>=2.6.8 in /usr/local/lib/python3.6/dist-packages (from tensorboard<1.13.0,>=1.12.0->tensorflow) (3.0.1)\n",
      "Requirement already satisfied: pbr>=0.11 in /usr/local/lib/python3.6/dist-packages (from mock>=2.0.0->tensorflow-estimator>=1.10.0->tensorflow) (5.1.2)\n",
      "Requirement already satisfied: scikit-learn in /usr/local/lib/python3.6/dist-packages (0.20.2)\n",
      "Requirement already satisfied: numpy>=1.8.2 in /usr/local/lib/python3.6/dist-packages (from scikit-learn) (1.14.6)\n",
      "Requirement already satisfied: scipy>=0.13.3 in /usr/local/lib/python3.6/dist-packages (from scikit-learn) (1.1.0)\n",
      "Collecting gensim==3.5.0\n",
      "\u001b[?25l  Downloading https://files.pythonhosted.org/packages/86/f3/37504f07651330ddfdefa631ca5246974a60d0908216539efda842fd080f/gensim-3.5.0-cp36-cp36m-manylinux1_x86_64.whl (23.5MB)\n",
      "\u001b[K    100% |████████████████████████████████| 23.5MB 1.9MB/s \n",
      "\u001b[?25hRequirement already satisfied: smart-open>=1.2.1 in /usr/local/lib/python3.6/dist-packages (from gensim==3.5.0) (1.8.0)\n",
      "Requirement already satisfied: numpy>=1.11.3 in /usr/local/lib/python3.6/dist-packages (from gensim==3.5.0) (1.14.6)\n",
      "Requirement already satisfied: scipy>=0.18.1 in /usr/local/lib/python3.6/dist-packages (from gensim==3.5.0) (1.1.0)\n",
      "Requirement already satisfied: six>=1.5.0 in /usr/local/lib/python3.6/dist-packages (from gensim==3.5.0) (1.11.0)\n",
      "Requirement already satisfied: boto>=2.32 in /usr/local/lib/python3.6/dist-packages (from smart-open>=1.2.1->gensim==3.5.0) (2.49.0)\n",
      "Requirement already satisfied: bz2file in /usr/local/lib/python3.6/dist-packages (from smart-open>=1.2.1->gensim==3.5.0) (0.98)\n",
      "Requirement already satisfied: requests in /usr/local/lib/python3.6/dist-packages (from smart-open>=1.2.1->gensim==3.5.0) (2.18.4)\n",
      "Requirement already satisfied: boto3 in /usr/local/lib/python3.6/dist-packages (from smart-open>=1.2.1->gensim==3.5.0) (1.9.86)\n",
      "Requirement already satisfied: idna<2.7,>=2.5 in /usr/local/lib/python3.6/dist-packages (from requests->smart-open>=1.2.1->gensim==3.5.0) (2.6)\n",
      "Requirement already satisfied: chardet<3.1.0,>=3.0.2 in /usr/local/lib/python3.6/dist-packages (from requests->smart-open>=1.2.1->gensim==3.5.0) (3.0.4)\n",
      "Requirement already satisfied: urllib3<1.23,>=1.21.1 in /usr/local/lib/python3.6/dist-packages (from requests->smart-open>=1.2.1->gensim==3.5.0) (1.22)\n",
      "Requirement already satisfied: certifi>=2017.4.17 in /usr/local/lib/python3.6/dist-packages (from requests->smart-open>=1.2.1->gensim==3.5.0) (2018.11.29)\n",
      "Requirement already satisfied: botocore<1.13.0,>=1.12.86 in /usr/local/lib/python3.6/dist-packages (from boto3->smart-open>=1.2.1->gensim==3.5.0) (1.12.86)\n",
      "Requirement already satisfied: s3transfer<0.2.0,>=0.1.10 in /usr/local/lib/python3.6/dist-packages (from boto3->smart-open>=1.2.1->gensim==3.5.0) (0.1.13)\n",
      "Requirement already satisfied: jmespath<1.0.0,>=0.7.1 in /usr/local/lib/python3.6/dist-packages (from boto3->smart-open>=1.2.1->gensim==3.5.0) (0.9.3)\n",
      "Requirement already satisfied: python-dateutil<3.0.0,>=2.1; python_version >= \"2.7\" in /usr/local/lib/python3.6/dist-packages (from botocore<1.13.0,>=1.12.86->boto3->smart-open>=1.2.1->gensim==3.5.0) (2.5.3)\n",
      "Requirement already satisfied: docutils>=0.10 in /usr/local/lib/python3.6/dist-packages (from botocore<1.13.0,>=1.12.86->boto3->smart-open>=1.2.1->gensim==3.5.0) (0.14)\n",
      "Installing collected packages: gensim\n",
      "  Found existing installation: gensim 3.6.0\n",
      "    Uninstalling gensim-3.6.0:\n",
      "      Successfully uninstalled gensim-3.6.0\n",
      "Successfully installed gensim-3.5.0\n"
     ]
    }
   ],
   "source": [
    "#Install  tensorflow,keras,scikit-learn and gensim in remote machine\n",
    "\n",
    "!pip install tensorflow\n",
    "!pip install -q keras\n",
    "!pip install scikit-learn\n",
    "!pip install gensim==3.5.0"
   ]
  },
  {
   "cell_type": "code",
   "execution_count": 0,
   "metadata": {
    "colab": {},
    "colab_type": "code",
    "collapsed": true,
    "id": "wcepU9Va-yxd"
   },
   "outputs": [],
   "source": [
    "#Import modules & set up logging"
   ]
  },
  {
   "cell_type": "code",
   "execution_count": 0,
   "metadata": {
    "colab": {},
    "colab_type": "code",
    "collapsed": true,
    "id": "T9bmFo42-yz5"
   },
   "outputs": [],
   "source": [
    "import numpy as np\n",
    "import pandas as pd"
   ]
  },
  {
   "cell_type": "code",
   "execution_count": 0,
   "metadata": {
    "colab": {},
    "colab_type": "code",
    "collapsed": true,
    "id": "JMlSEhis-y2R"
   },
   "outputs": [],
   "source": [
    "from tensorflow.python.keras.models import Sequential\n",
    "from tensorflow.python.keras.models import Model\n",
    "from tensorflow.python.keras.layers import Input, Dense, Embedding, Conv2D, MaxPool2D, Conv1D, MaxPooling1D, GlobalMaxPooling1D\n",
    "from tensorflow.python.keras.layers import Reshape, Flatten, Dropout, Concatenate\n",
    "from tensorflow.python.keras.optimizers import RMSprop\n",
    "from tensorflow.python.keras.callbacks import ModelCheckpoint\n",
    "from tensorflow.python.keras.optimizers import Adam\n",
    "from tensorflow.python.keras.preprocessing.text import Tokenizer\n",
    "from tensorflow.python.keras.preprocessing.sequence import pad_sequences\n",
    "from tensorflow.python.keras import regularizers\n",
    "from tensorflow.keras.callbacks import EarlyStopping\n"
   ]
  },
  {
   "cell_type": "code",
   "execution_count": 0,
   "metadata": {
    "colab": {},
    "colab_type": "code",
    "collapsed": true,
    "id": "qw3SNBpg-y4q"
   },
   "outputs": [],
   "source": [
    "from sklearn.pipeline import Pipeline\n",
    "from sklearn.svm import LinearSVC\n",
    "from sklearn.metrics import classification_report, f1_score, confusion_matrix\n",
    "from sklearn.model_selection import cross_val_score, train_test_split\n",
    "from sklearn.naive_bayes import MultinomialNB\n",
    "from sklearn.feature_extraction.text import TfidfVectorizer\n",
    "from sklearn.feature_extraction.text import CountVectorizer\n",
    "from sklearn.metrics import classification_report, f1_score, accuracy_score, confusion_matrix"
   ]
  },
  {
   "cell_type": "code",
   "execution_count": 0,
   "metadata": {
    "colab": {},
    "colab_type": "code",
    "collapsed": true,
    "id": "ocLN_j7T-y7L"
   },
   "outputs": [],
   "source": [
    "import gensim, logging\n",
    "\n",
    "logging.basicConfig(format='%(asctime)s : %(levelname)s : %(message)s', level=logging.INFO)\n",
    "import time\n",
    "\n",
    "from gensim.models.word2vec import Word2Vec\n",
    "from glob import glob"
   ]
  },
  {
   "cell_type": "code",
   "execution_count": 25,
   "metadata": {
    "colab": {
     "base_uri": "https://localhost:8080/",
     "height": 53
    },
    "colab_type": "code",
    "executionInfo": {
     "elapsed": 3924,
     "status": "ok",
     "timestamp": 1549309725213,
     "user": {
      "displayName": "halil ibrahim çelenli",
      "photoUrl": "https://lh5.googleusercontent.com/-5Qvr42waygs/AAAAAAAAAAI/AAAAAAAAB3U/8_RhbBZokq4/s64/photo.jpg",
      "userId": "10735351276472697566"
     },
     "user_tz": -180
    },
    "id": "Cm7zUT_y-y9k",
    "outputId": "21c44125-563c-4660-8999-1efa031b4aa0"
   },
   "outputs": [
    {
     "name": "stdout",
     "output_type": "stream",
     "text": [
      "3000 tweet  :   3000\n",
      "3000 label  :   3000\n"
     ]
    }
   ],
   "source": [
    "#Data load\n",
    "\n",
    "tweet_list = []\n",
    "label_list = []\n",
    "\n",
    "for index, file in enumerate(glob('3000tweet/raw_texts/**/*.txt', recursive=True)):                                                                 # labels\n",
    "    label_list.append(file.split(\"/\")[-2]),                                                                 # labels\n",
    "    tweet_list.append((open(file, encoding=\"windows-1254\").read().replace('\\n', ' ').strip().lower()))      # tweets\n",
    "\n",
    "print(\"3000 tweet  :  \", len(tweet_list))\n",
    "print(\"3000 label  :  \", len(label_list))\n"
   ]
  },
  {
   "cell_type": "code",
   "execution_count": 27,
   "metadata": {
    "colab": {
     "base_uri": "https://localhost:8080/",
     "height": 89
    },
    "colab_type": "code",
    "executionInfo": {
     "elapsed": 486,
     "status": "ok",
     "timestamp": 1549309731855,
     "user": {
      "displayName": "halil ibrahim çelenli",
      "photoUrl": "https://lh5.googleusercontent.com/-5Qvr42waygs/AAAAAAAAAAI/AAAAAAAAB3U/8_RhbBZokq4/s64/photo.jpg",
      "userId": "10735351276472697566"
     },
     "user_tz": -180
    },
    "id": "RjFyY-Ef-zAD",
    "outputId": "d91a096c-0fc2-4f09-ac9c-afbd0fa07501"
   },
   "outputs": [
    {
     "name": "stdout",
     "output_type": "stream",
     "text": [
      "sum data :  3000\n",
      "1.class :  756\n",
      "2.class :  1287\n",
      "3.class :  957\n"
     ]
    }
   ],
   "source": [
    "print(\"sum data : \",len(label_list))\n",
    "value1 = [i for i in label_list if i in '1']\n",
    "value2 = [i for i in label_list if i in '2']\n",
    "value3 = [i for i in label_list if i in '3']\n",
    "print(\"1.class : \",len(value1))\n",
    "print(\"2.class : \",len(value2))\n",
    "print(\"3.class : \",len(value3))"
   ]
  },
  {
   "cell_type": "code",
   "execution_count": 26,
   "metadata": {
    "colab": {
     "base_uri": "https://localhost:8080/",
     "height": 35
    },
    "colab_type": "code",
    "executionInfo": {
     "elapsed": 1024,
     "status": "ok",
     "timestamp": 1549309730092,
     "user": {
      "displayName": "halil ibrahim çelenli",
      "photoUrl": "https://lh5.googleusercontent.com/-5Qvr42waygs/AAAAAAAAAAI/AAAAAAAAB3U/8_RhbBZokq4/s64/photo.jpg",
      "userId": "10735351276472697566"
     },
     "user_tz": -180
    },
    "id": "QzFTwxCQ-zCR",
    "outputId": "1c4d3eb8-802d-4c6d-f916-b851f1005229"
   },
   "outputs": [
    {
     "data": {
      "text/plain": [
       "'hayat paylaşınca güzel ;)'"
      ]
     },
     "execution_count": 26,
     "metadata": {
      "tags": []
     },
     "output_type": "execute_result"
    }
   ],
   "source": [
    "tweet_list[0]"
   ]
  },
  {
   "cell_type": "code",
   "execution_count": 0,
   "metadata": {
    "colab": {},
    "colab_type": "code",
    "collapsed": true,
    "id": "Gg0yuwkX-zEh"
   },
   "outputs": [],
   "source": [
    "#Preprocessing\n",
    "\n",
    "#import Stemmer\n",
    "import re\n",
    "\n",
    "\n",
    "def splitIntoStem(message):\n",
    "\n",
    "    \n",
    "    return [removeNumeric(stripEmoji(singleCharacterRemove(removePunctuation\n",
    "                                                           (removeHyperlinks\n",
    "                                                            (removeHashtags\n",
    "                                                             (removeUsernames\n",
    "                                                              (stemWord(word)))))))) for word in message.split()]\n",
    "def stemWord(tweet):\n",
    "\n",
    "    ################################## for turkish   => !pip install snowballstemmer\n",
    "    #stemmer = Stemmer.Stemmer('turkish')                      \n",
    "    #return stemmer.stemWord(tweet).lower()\n",
    "    \n",
    "    return tweet.lower()\n",
    "\n",
    "#Remove usernames\n",
    "def removeUsernames(tweet):\n",
    "    return re.sub('@[^\\s]+', '', tweet)\n",
    "\n",
    "\n",
    "#Remove hashtag\n",
    "def removeHashtags(tweet):\n",
    "    return re.sub(r'#[^\\s]+', '', tweet)\n",
    "\n",
    "#Remove link\n",
    "def removeHyperlinks(tweet):\n",
    "    return re.sub('((www\\.[^\\s]+)|(https?://[^\\s]+))', '', tweet)\n",
    "\n",
    "#Remove numeric character\n",
    "def removeNumeric(value):\n",
    "    blist2 = [item for item in value if not item.isdigit()]\n",
    "    blist3 = \"\".join(blist2)\n",
    "    return blist3\n",
    "\n",
    "#Remove punctuation\n",
    "def removePunctuation(tweet):\n",
    "\n",
    "    return re.sub(r'[^\\w\\s]','',tweet)\n",
    "\n",
    "#Remove single character\n",
    "def singleCharacterRemove(tweet):\n",
    "    return re.sub(r'(?:^| )\\w(?:$| )', ' ', tweet)\n",
    "\n",
    "#Remove emoji\n",
    "def stripEmoji(text):\n",
    "\n",
    "    RE_EMOJI = re.compile('[\\U00010000-\\U0010ffff]', flags=re.UNICODE)\n",
    "    return RE_EMOJI.sub(r'', text)"
   ]
  },
  {
   "cell_type": "code",
   "execution_count": 0,
   "metadata": {
    "colab": {},
    "colab_type": "code",
    "collapsed": true,
    "id": "LfpsmYaI_H7-"
   },
   "outputs": [],
   "source": [
    "for i,k in enumerate(tweet_list):\n",
    "    tweet_list[i] = \" \".join(splitIntoStem(k)).split()"
   ]
  },
  {
   "cell_type": "code",
   "execution_count": 30,
   "metadata": {
    "colab": {
     "base_uri": "https://localhost:8080/",
     "height": 35
    },
    "colab_type": "code",
    "executionInfo": {
     "elapsed": 1046,
     "status": "ok",
     "timestamp": 1549309744562,
     "user": {
      "displayName": "halil ibrahim çelenli",
      "photoUrl": "https://lh5.googleusercontent.com/-5Qvr42waygs/AAAAAAAAAAI/AAAAAAAAB3U/8_RhbBZokq4/s64/photo.jpg",
      "userId": "10735351276472697566"
     },
     "user_tz": -180
    },
    "id": "6tfaKgk3_H-X",
    "outputId": "254b7abd-1649-4d16-f6f1-d64a53d47482"
   },
   "outputs": [
    {
     "data": {
      "text/plain": [
       "['hayat', 'paylaşınca', 'güzel']"
      ]
     },
     "execution_count": 30,
     "metadata": {
      "tags": []
     },
     "output_type": "execute_result"
    }
   ],
   "source": [
    "tweet_list[0]"
   ]
  },
  {
   "cell_type": "code",
   "execution_count": 31,
   "metadata": {
    "colab": {
     "base_uri": "https://localhost:8080/",
     "height": 71
    },
    "colab_type": "code",
    "executionInfo": {
     "elapsed": 868,
     "status": "ok",
     "timestamp": 1549309747807,
     "user": {
      "displayName": "halil ibrahim çelenli",
      "photoUrl": "https://lh5.googleusercontent.com/-5Qvr42waygs/AAAAAAAAAAI/AAAAAAAAB3U/8_RhbBZokq4/s64/photo.jpg",
      "userId": "10735351276472697566"
     },
     "user_tz": -180
    },
    "id": "zuOt_1xO_IBO",
    "outputId": "26d67111-21c3-4ab3-ea78-e772c922bb7f"
   },
   "outputs": [
    {
     "name": "stdout",
     "output_type": "stream",
     "text": [
      "[nltk_data] Downloading package stopwords to /root/nltk_data...\n",
      "[nltk_data]   Package stopwords is already up-to-date!\n"
     ]
    },
    {
     "data": {
      "text/plain": [
       "True"
      ]
     },
     "execution_count": 31,
     "metadata": {
      "tags": []
     },
     "output_type": "execute_result"
    }
   ],
   "source": [
    "import nltk\n",
    "nltk.download('stopwords')"
   ]
  },
  {
   "cell_type": "code",
   "execution_count": 32,
   "metadata": {
    "colab": {
     "base_uri": "https://localhost:8080/",
     "height": 55
    },
    "colab_type": "code",
    "executionInfo": {
     "elapsed": 1083,
     "status": "ok",
     "timestamp": 1549309752938,
     "user": {
      "displayName": "halil ibrahim çelenli",
      "photoUrl": "https://lh5.googleusercontent.com/-5Qvr42waygs/AAAAAAAAAAI/AAAAAAAAB3U/8_RhbBZokq4/s64/photo.jpg",
      "userId": "10735351276472697566"
     },
     "user_tz": -180
    },
    "id": "NBYJh-IP_IEF",
    "outputId": "f4742bc1-448f-4476-b67e-7ba6b24a1ae9"
   },
   "outputs": [
    {
     "name": "stdout",
     "output_type": "stream",
     "text": [
      "stop_words :  ['acaba', 'ama', 'aslında', 'az', 'bazı', 'belki', 'biri', 'birkaç', 'birşey', 'biz', 'bu', 'çok', 'çünkü', 'da', 'daha', 'de', 'defa', 'diye', 'eğer', 'en', 'gibi', 'hem', 'hep', 'hepsi', 'her', 'hiç', 'için', 'ile', 'ise', 'kez', 'ki', 'kim', 'mı', 'mu', 'mü', 'nasıl', 'ne', 'neden', 'nerde', 'nerede', 'nereye', 'niçin', 'niye', 'o', 'sanki', 'şey', 'siz', 'şu', 'tüm', 've', 'veya', 'ya', 'yani', 'bir', 'iki', 'üç', 'dört', 'beş', 'altı', 'yedi', 'sekiz', 'dokuz', 'on']\n"
     ]
    }
   ],
   "source": [
    "#Remove stopwords\n",
    "\n",
    "from nltk.corpus import stopwords\n",
    "\n",
    "\n",
    "def removeStopWords(tweet_list):\n",
    "    \n",
    "    filtered_stopwords = []\n",
    "    filtered_stopwords_list = []\n",
    "    \n",
    "    stop_words = stopwords.words('turkish')\n",
    "\n",
    "    stop_words.append(\"bir\")\n",
    "    stop_words.append(\"iki\")\n",
    "    stop_words.append(\"üç\")\n",
    "    stop_words.append(\"dört\")\n",
    "    stop_words.append(\"beş\")\n",
    "    stop_words.append(\"altı\")\n",
    "    stop_words.append(\"yedi\")\n",
    "    stop_words.append(\"sekiz\")\n",
    "    stop_words.append(\"dokuz\")\n",
    "    stop_words.append(\"on\")\n",
    "    \n",
    "    print(\"stop_words : \",stop_words)\n",
    "    \n",
    "    for i in tweet_list:\n",
    "        filtered_sentence = [w for w in i if not w in stop_words]\n",
    "        filtered_stopwords_list.append(filtered_sentence)                         #return list value\n",
    "        filtered_stopwords.append(\" \".join(filtered_sentence))                    #return string value\n",
    "    \n",
    "    return filtered_stopwords,filtered_stopwords_list                                      \n",
    "\n",
    "\n",
    "tweet_list,filtered_stopwords_list = removeStopWords(tweet_list)"
   ]
  },
  {
   "cell_type": "code",
   "execution_count": 33,
   "metadata": {
    "colab": {
     "base_uri": "https://localhost:8080/",
     "height": 35
    },
    "colab_type": "code",
    "executionInfo": {
     "elapsed": 1073,
     "status": "ok",
     "timestamp": 1549309756386,
     "user": {
      "displayName": "halil ibrahim çelenli",
      "photoUrl": "https://lh5.googleusercontent.com/-5Qvr42waygs/AAAAAAAAAAI/AAAAAAAAB3U/8_RhbBZokq4/s64/photo.jpg",
      "userId": "10735351276472697566"
     },
     "user_tz": -180
    },
    "id": "nVhj3jDJ_IGs",
    "outputId": "66d8b6dc-3ea3-4789-ec33-aa3e63b3f734"
   },
   "outputs": [
    {
     "data": {
      "text/plain": [
       "'hayat paylaşınca güzel'"
      ]
     },
     "execution_count": 33,
     "metadata": {
      "tags": []
     },
     "output_type": "execute_result"
    }
   ],
   "source": [
    "tweet_list[0]"
   ]
  },
  {
   "cell_type": "code",
   "execution_count": 34,
   "metadata": {
    "colab": {
     "base_uri": "https://localhost:8080/",
     "height": 35
    },
    "colab_type": "code",
    "executionInfo": {
     "elapsed": 1048,
     "status": "ok",
     "timestamp": 1549309759432,
     "user": {
      "displayName": "halil ibrahim çelenli",
      "photoUrl": "https://lh5.googleusercontent.com/-5Qvr42waygs/AAAAAAAAAAI/AAAAAAAAB3U/8_RhbBZokq4/s64/photo.jpg",
      "userId": "10735351276472697566"
     },
     "user_tz": -180
    },
    "id": "oAN14CWY_IJE",
    "outputId": "29854513-32c1-478c-a31c-d82cb3c9bf32"
   },
   "outputs": [
    {
     "data": {
      "text/plain": [
       "['hayat', 'paylaşınca', 'güzel']"
      ]
     },
     "execution_count": 34,
     "metadata": {
      "tags": []
     },
     "output_type": "execute_result"
    }
   ],
   "source": [
    "filtered_stopwords_list[0]"
   ]
  },
  {
   "cell_type": "code",
   "execution_count": 35,
   "metadata": {
    "colab": {
     "base_uri": "https://localhost:8080/",
     "height": 206
    },
    "colab_type": "code",
    "executionInfo": {
     "elapsed": 656,
     "status": "ok",
     "timestamp": 1549309762933,
     "user": {
      "displayName": "halil ibrahim çelenli",
      "photoUrl": "https://lh5.googleusercontent.com/-5Qvr42waygs/AAAAAAAAAAI/AAAAAAAAB3U/8_RhbBZokq4/s64/photo.jpg",
      "userId": "10735351276472697566"
     },
     "user_tz": -180
    },
    "id": "-1OhKSpb_SEs",
    "outputId": "df676ae6-f032-4419-c3da-786e2e1862d5"
   },
   "outputs": [
    {
     "data": {
      "text/html": [
       "<div>\n",
       "<style scoped>\n",
       "    .dataframe tbody tr th:only-of-type {\n",
       "        vertical-align: middle;\n",
       "    }\n",
       "\n",
       "    .dataframe tbody tr th {\n",
       "        vertical-align: top;\n",
       "    }\n",
       "\n",
       "    .dataframe thead th {\n",
       "        text-align: right;\n",
       "    }\n",
       "</style>\n",
       "<table border=\"1\" class=\"dataframe\">\n",
       "  <thead>\n",
       "    <tr style=\"text-align: right;\">\n",
       "      <th></th>\n",
       "      <th>label</th>\n",
       "      <th>tweet</th>\n",
       "    </tr>\n",
       "  </thead>\n",
       "  <tbody>\n",
       "    <tr>\n",
       "      <th>0</th>\n",
       "      <td>1</td>\n",
       "      <td>hayat paylaşınca güzel</td>\n",
       "    </tr>\n",
       "    <tr>\n",
       "      <th>1</th>\n",
       "      <td>1</td>\n",
       "      <td>hayat kesinlikle paylaşınca güzel</td>\n",
       "    </tr>\n",
       "    <tr>\n",
       "      <th>2</th>\n",
       "      <td>1</td>\n",
       "      <td>beni unutmayan tek adam turkcell</td>\n",
       "    </tr>\n",
       "    <tr>\n",
       "      <th>3</th>\n",
       "      <td>1</td>\n",
       "      <td>ozaman senin karsına cıkan denyoların türkcell...</td>\n",
       "    </tr>\n",
       "    <tr>\n",
       "      <th>4</th>\n",
       "      <td>1</td>\n",
       "      <td>manganın anda turkcell internetinde verdigi ko...</td>\n",
       "    </tr>\n",
       "  </tbody>\n",
       "</table>\n",
       "</div>"
      ],
      "text/plain": [
       "  label                                              tweet\n",
       "0     1                             hayat paylaşınca güzel\n",
       "1     1                  hayat kesinlikle paylaşınca güzel\n",
       "2     1                   beni unutmayan tek adam turkcell\n",
       "3     1  ozaman senin karsına cıkan denyoların türkcell...\n",
       "4     1  manganın anda turkcell internetinde verdigi ko..."
      ]
     },
     "execution_count": 35,
     "metadata": {
      "tags": []
     },
     "output_type": "execute_result"
    }
   ],
   "source": [
    "import pandas as pd \n",
    "\n",
    "daf = pd.DataFrame({\"tweet\":tweet_list,\"label\":label_list})\n",
    "daf.head()"
   ]
  },
  {
   "cell_type": "code",
   "execution_count": 36,
   "metadata": {
    "colab": {
     "base_uri": "https://localhost:8080/",
     "height": 35
    },
    "colab_type": "code",
    "executionInfo": {
     "elapsed": 1112,
     "status": "ok",
     "timestamp": 1549309766994,
     "user": {
      "displayName": "halil ibrahim çelenli",
      "photoUrl": "https://lh5.googleusercontent.com/-5Qvr42waygs/AAAAAAAAAAI/AAAAAAAAB3U/8_RhbBZokq4/s64/photo.jpg",
      "userId": "10735351276472697566"
     },
     "user_tz": -180
    },
    "id": "L3zkDcF5_SHk",
    "outputId": "07d2ae9a-b00a-4431-ad3a-d6f3ffe99ef6"
   },
   "outputs": [
    {
     "data": {
      "text/plain": [
       "'hayat paylaşınca güzel'"
      ]
     },
     "execution_count": 36,
     "metadata": {
      "tags": []
     },
     "output_type": "execute_result"
    }
   ],
   "source": [
    "daf.iloc[0][1]"
   ]
  },
  {
   "cell_type": "code",
   "execution_count": 0,
   "metadata": {
    "colab": {},
    "colab_type": "code",
    "collapsed": true,
    "id": "_2lG1bnq_SKU"
   },
   "outputs": [],
   "source": [
    "target = daf['label'].values.tolist()\n",
    "data = daf['tweet'].values.tolist()"
   ]
  },
  {
   "cell_type": "code",
   "execution_count": 0,
   "metadata": {
    "colab": {},
    "colab_type": "code",
    "collapsed": true,
    "id": "qGZJHMpB_SM5"
   },
   "outputs": [],
   "source": [
    "x_train, x_test, y_train, y_test = \\\n",
    "    train_test_split(data,target, test_size=0.2)  # random split"
   ]
  },
  {
   "cell_type": "code",
   "execution_count": 39,
   "metadata": {
    "colab": {
     "base_uri": "https://localhost:8080/",
     "height": 53
    },
    "colab_type": "code",
    "executionInfo": {
     "elapsed": 756,
     "status": "ok",
     "timestamp": 1549309776615,
     "user": {
      "displayName": "halil ibrahim çelenli",
      "photoUrl": "https://lh5.googleusercontent.com/-5Qvr42waygs/AAAAAAAAAAI/AAAAAAAAB3U/8_RhbBZokq4/s64/photo.jpg",
      "userId": "10735351276472697566"
     },
     "user_tz": -180
    },
    "id": "lwBbSYtf_SPa",
    "outputId": "245d25a3-1156-4bae-bbf5-62007d53839d"
   },
   "outputs": [
    {
     "name": "stdout",
     "output_type": "stream",
     "text": [
      "x_train : 2400\n",
      "x_test : 600\n"
     ]
    }
   ],
   "source": [
    "print(\"x_train :\",len(x_train))\n",
    "print(\"x_test :\",len(x_test))"
   ]
  },
  {
   "cell_type": "code",
   "execution_count": 40,
   "metadata": {
    "colab": {
     "base_uri": "https://localhost:8080/",
     "height": 35
    },
    "colab_type": "code",
    "executionInfo": {
     "elapsed": 677,
     "status": "ok",
     "timestamp": 1549309778815,
     "user": {
      "displayName": "halil ibrahim çelenli",
      "photoUrl": "https://lh5.googleusercontent.com/-5Qvr42waygs/AAAAAAAAAAI/AAAAAAAAB3U/8_RhbBZokq4/s64/photo.jpg",
      "userId": "10735351276472697566"
     },
     "user_tz": -180
    },
    "id": "xzFxCK4N_aX1",
    "outputId": "b835a649-8c9d-4659-ad1b-5fee13d2ecdd"
   },
   "outputs": [
    {
     "data": {
      "text/plain": [
       "'abi birde turkcellle röportaj yapsan cok iyi olur abi yine skytürk tvde yaptigin radyocu programi yapsan olmaz mi'"
      ]
     },
     "execution_count": 40,
     "metadata": {
      "tags": []
     },
     "output_type": "execute_result"
    }
   ],
   "source": [
    "x_train[800]"
   ]
  },
  {
   "cell_type": "code",
   "execution_count": 41,
   "metadata": {
    "colab": {
     "base_uri": "https://localhost:8080/",
     "height": 35
    },
    "colab_type": "code",
    "executionInfo": {
     "elapsed": 493,
     "status": "ok",
     "timestamp": 1549309780419,
     "user": {
      "displayName": "halil ibrahim çelenli",
      "photoUrl": "https://lh5.googleusercontent.com/-5Qvr42waygs/AAAAAAAAAAI/AAAAAAAAB3U/8_RhbBZokq4/s64/photo.jpg",
      "userId": "10735351276472697566"
     },
     "user_tz": -180
    },
    "id": "Gp0m3wlc_aai",
    "outputId": "38ad68c6-5ef2-465d-b3f6-5d3225c52e9d"
   },
   "outputs": [
    {
     "data": {
      "text/plain": [
       "'3'"
      ]
     },
     "execution_count": 41,
     "metadata": {
      "tags": []
     },
     "output_type": "execute_result"
    }
   ],
   "source": [
    "y_train[800]"
   ]
  },
  {
   "cell_type": "code",
   "execution_count": 42,
   "metadata": {
    "colab": {
     "base_uri": "https://localhost:8080/",
     "height": 35
    },
    "colab_type": "code",
    "executionInfo": {
     "elapsed": 1072,
     "status": "ok",
     "timestamp": 1549309783868,
     "user": {
      "displayName": "halil ibrahim çelenli",
      "photoUrl": "https://lh5.googleusercontent.com/-5Qvr42waygs/AAAAAAAAAAI/AAAAAAAAB3U/8_RhbBZokq4/s64/photo.jpg",
      "userId": "10735351276472697566"
     },
     "user_tz": -180
    },
    "id": "tL5hPOLN_adL",
    "outputId": "1596724a-ef80-4c25-9394-a22fe0d25f57"
   },
   "outputs": [
    {
     "data": {
      "text/plain": [
       "<keras_preprocessing.text.Tokenizer at 0x7fd45604f0f0>"
      ]
     },
     "execution_count": 42,
     "metadata": {
      "tags": []
     },
     "output_type": "execute_result"
    }
   ],
   "source": [
    "tokenizer = Tokenizer()             #Tokenizer(num_words=5000) => 5000 words of the highest frequency\n",
    "tokenizer.fit_on_texts(data)\n",
    "tokenizer "
   ]
  },
  {
   "cell_type": "code",
   "execution_count": 43,
   "metadata": {
    "colab": {
     "base_uri": "https://localhost:8080/",
     "height": 198
    },
    "colab_type": "code",
    "executionInfo": {
     "elapsed": 1064,
     "status": "ok",
     "timestamp": 1549309787204,
     "user": {
      "displayName": "halil ibrahim çelenli",
      "photoUrl": "https://lh5.googleusercontent.com/-5Qvr42waygs/AAAAAAAAAAI/AAAAAAAAB3U/8_RhbBZokq4/s64/photo.jpg",
      "userId": "10735351276472697566"
     },
     "user_tz": -180
    },
    "id": "lIJT2Ho-_af6",
    "outputId": "879338cb-b78f-4ed4-b567-a45bfd077523"
   },
   "outputs": [
    {
     "data": {
      "text/plain": [
       "['turkcell',\n",
       " 'mesaj',\n",
       " 'güzel',\n",
       " 'bi',\n",
       " 'hayat',\n",
       " 'ben',\n",
       " 'var',\n",
       " 'paylaşınca',\n",
       " 'superonline',\n",
       " 'mi']"
      ]
     },
     "execution_count": 43,
     "metadata": {
      "tags": []
     },
     "output_type": "execute_result"
    }
   ],
   "source": [
    "list(tokenizer.word_index)[0:10]"
   ]
  },
  {
   "cell_type": "code",
   "execution_count": 44,
   "metadata": {
    "colab": {
     "base_uri": "https://localhost:8080/",
     "height": 35
    },
    "colab_type": "code",
    "executionInfo": {
     "elapsed": 1063,
     "status": "ok",
     "timestamp": 1549309790082,
     "user": {
      "displayName": "halil ibrahim çelenli",
      "photoUrl": "https://lh5.googleusercontent.com/-5Qvr42waygs/AAAAAAAAAAI/AAAAAAAAB3U/8_RhbBZokq4/s64/photo.jpg",
      "userId": "10735351276472697566"
     },
     "user_tz": -180
    },
    "id": "5XRJtLyT_aiO",
    "outputId": "f9bae1cb-0747-45d2-e4ee-8a732b9f345c"
   },
   "outputs": [
    {
     "name": "stdout",
     "output_type": "stream",
     "text": [
      "len(tokenizer) : 11905\n"
     ]
    }
   ],
   "source": [
    "print(\"len(tokenizer) :\",len(list(tokenizer.word_index)))"
   ]
  },
  {
   "cell_type": "code",
   "execution_count": 0,
   "metadata": {
    "colab": {},
    "colab_type": "code",
    "collapsed": true,
    "id": "9l6Df78F_lB8"
   },
   "outputs": [],
   "source": [
    "#Training set token with text_to_sequences.\n",
    "\n",
    "x_train_tokens = tokenizer.texts_to_sequences(x_train)"
   ]
  },
  {
   "cell_type": "code",
   "execution_count": 46,
   "metadata": {
    "colab": {
     "base_uri": "https://localhost:8080/",
     "height": 35
    },
    "colab_type": "code",
    "executionInfo": {
     "elapsed": 1080,
     "status": "ok",
     "timestamp": 1549309799885,
     "user": {
      "displayName": "halil ibrahim çelenli",
      "photoUrl": "https://lh5.googleusercontent.com/-5Qvr42waygs/AAAAAAAAAAI/AAAAAAAAB3U/8_RhbBZokq4/s64/photo.jpg",
      "userId": "10735351276472697566"
     },
     "user_tz": -180
    },
    "id": "89zwt9PY_lEt",
    "outputId": "7f86d36f-93be-4be2-b338-3891f655dd92"
   },
   "outputs": [
    {
     "data": {
      "text/plain": [
       "'abi birde turkcellle röportaj yapsan cok iyi olur abi yine skytürk tvde yaptigin radyocu programi yapsan olmaz mi'"
      ]
     },
     "execution_count": 46,
     "metadata": {
      "tags": []
     },
     "output_type": "execute_result"
    }
   ],
   "source": [
    "x_train[800]"
   ]
  },
  {
   "cell_type": "code",
   "execution_count": 47,
   "metadata": {
    "colab": {
     "base_uri": "https://localhost:8080/",
     "height": 35
    },
    "colab_type": "code",
    "executionInfo": {
     "elapsed": 1045,
     "status": "ok",
     "timestamp": 1549309803054,
     "user": {
      "displayName": "halil ibrahim çelenli",
      "photoUrl": "https://lh5.googleusercontent.com/-5Qvr42waygs/AAAAAAAAAAI/AAAAAAAAB3U/8_RhbBZokq4/s64/photo.jpg",
      "userId": "10735351276472697566"
     },
     "user_tz": -180
    },
    "id": "Gl1HCJ5-_lHW",
    "outputId": "bc186c00-b37b-4282-8e3c-a27ca82db8b2"
   },
   "outputs": [
    {
     "name": "stdout",
     "output_type": "stream",
     "text": [
      "[113, 348, 214, 5778, 2319, 19, 17, 87, 113, 51, 5779, 5780, 2320, 5781, 5782, 2319, 205, 10]\n"
     ]
    }
   ],
   "source": [
    "print(x_train_tokens[800])"
   ]
  },
  {
   "cell_type": "code",
   "execution_count": 0,
   "metadata": {
    "colab": {},
    "colab_type": "code",
    "collapsed": true,
    "id": "BcQZ_LAx_lJ4"
   },
   "outputs": [],
   "source": [
    "x_test_tokens = tokenizer.texts_to_sequences(x_test)"
   ]
  },
  {
   "cell_type": "code",
   "execution_count": 0,
   "metadata": {
    "colab": {},
    "colab_type": "code",
    "collapsed": true,
    "id": "KDuTXrWBIysU"
   },
   "outputs": [],
   "source": [
    "num_tokens = [len(tokens) for tokens in x_train_tokens + x_test_tokens]\n",
    "num_tokens = np.array(num_tokens)"
   ]
  },
  {
   "cell_type": "code",
   "execution_count": 50,
   "metadata": {
    "colab": {
     "base_uri": "https://localhost:8080/",
     "height": 35
    },
    "colab_type": "code",
    "executionInfo": {
     "elapsed": 1059,
     "status": "ok",
     "timestamp": 1549309809600,
     "user": {
      "displayName": "halil ibrahim çelenli",
      "photoUrl": "https://lh5.googleusercontent.com/-5Qvr42waygs/AAAAAAAAAAI/AAAAAAAAB3U/8_RhbBZokq4/s64/photo.jpg",
      "userId": "10735351276472697566"
     },
     "user_tz": -180
    },
    "id": "4CZT3EAyIyvd",
    "outputId": "3b96e81e-4358-4e67-bec7-10db458a44ec"
   },
   "outputs": [
    {
     "data": {
      "text/plain": [
       "18"
      ]
     },
     "execution_count": 50,
     "metadata": {
      "tags": []
     },
     "output_type": "execute_result"
    }
   ],
   "source": [
    "num_tokens[800]"
   ]
  },
  {
   "cell_type": "code",
   "execution_count": 51,
   "metadata": {
    "colab": {
     "base_uri": "https://localhost:8080/",
     "height": 35
    },
    "colab_type": "code",
    "executionInfo": {
     "elapsed": 724,
     "status": "ok",
     "timestamp": 1549309811130,
     "user": {
      "displayName": "halil ibrahim çelenli",
      "photoUrl": "https://lh5.googleusercontent.com/-5Qvr42waygs/AAAAAAAAAAI/AAAAAAAAB3U/8_RhbBZokq4/s64/photo.jpg",
      "userId": "10735351276472697566"
     },
     "user_tz": -180
    },
    "id": "JUR5BNJkIyyN",
    "outputId": "812bcf50-7f63-48ec-9370-435077ff9b05"
   },
   "outputs": [
    {
     "data": {
      "text/plain": [
       "21"
      ]
     },
     "execution_count": 51,
     "metadata": {
      "tags": []
     },
     "output_type": "execute_result"
    }
   ],
   "source": [
    "np.max(num_tokens)"
   ]
  },
  {
   "cell_type": "code",
   "execution_count": 52,
   "metadata": {
    "colab": {
     "base_uri": "https://localhost:8080/",
     "height": 35
    },
    "colab_type": "code",
    "executionInfo": {
     "elapsed": 816,
     "status": "ok",
     "timestamp": 1549309813390,
     "user": {
      "displayName": "halil ibrahim çelenli",
      "photoUrl": "https://lh5.googleusercontent.com/-5Qvr42waygs/AAAAAAAAAAI/AAAAAAAAB3U/8_RhbBZokq4/s64/photo.jpg",
      "userId": "10735351276472697566"
     },
     "user_tz": -180
    },
    "id": "WwbGGl0MIy1K",
    "outputId": "3ffef003-3047-4901-c9f4-7f8a65cf2d6f"
   },
   "outputs": [
    {
     "data": {
      "text/plain": [
       "1376"
      ]
     },
     "execution_count": 52,
     "metadata": {
      "tags": []
     },
     "output_type": "execute_result"
    }
   ],
   "source": [
    "np.argmax(num_tokens)"
   ]
  },
  {
   "cell_type": "code",
   "execution_count": 53,
   "metadata": {
    "colab": {
     "base_uri": "https://localhost:8080/",
     "height": 35
    },
    "colab_type": "code",
    "executionInfo": {
     "elapsed": 791,
     "status": "ok",
     "timestamp": 1549309816275,
     "user": {
      "displayName": "halil ibrahim çelenli",
      "photoUrl": "https://lh5.googleusercontent.com/-5Qvr42waygs/AAAAAAAAAAI/AAAAAAAAB3U/8_RhbBZokq4/s64/photo.jpg",
      "userId": "10735351276472697566"
     },
     "user_tz": -180
    },
    "id": "51d4XFw4Iy4D",
    "outputId": "9aa99a1e-1039-4cb7-f0cf-637f871326a8"
   },
   "outputs": [
    {
     "data": {
      "text/plain": [
       "'onunla kavga edersn ondn bi msj beklrsn anda tlf msj gelr heycanla bi bkarsn msjı atan turkcel işte an yıkldğn andır'"
      ]
     },
     "execution_count": 53,
     "metadata": {
      "tags": []
     },
     "output_type": "execute_result"
    }
   ],
   "source": [
    "x_train[np.argmax(num_tokens)]"
   ]
  },
  {
   "cell_type": "code",
   "execution_count": 0,
   "metadata": {
    "colab": {},
    "colab_type": "code",
    "collapsed": true,
    "id": "2vmboFf6I_i9"
   },
   "outputs": [],
   "source": [
    "#You must equal your comments length to use cnn"
   ]
  },
  {
   "cell_type": "code",
   "execution_count": 55,
   "metadata": {
    "colab": {
     "base_uri": "https://localhost:8080/",
     "height": 35
    },
    "colab_type": "code",
    "executionInfo": {
     "elapsed": 816,
     "status": "ok",
     "timestamp": 1549309836814,
     "user": {
      "displayName": "halil ibrahim çelenli",
      "photoUrl": "https://lh5.googleusercontent.com/-5Qvr42waygs/AAAAAAAAAAI/AAAAAAAAB3U/8_RhbBZokq4/s64/photo.jpg",
      "userId": "10735351276472697566"
     },
     "user_tz": -180
    },
    "id": "R5g5p-B-I_l9",
    "outputId": "28d107e6-ecdb-4ff9-cfa3-f513760d523a"
   },
   "outputs": [
    {
     "data": {
      "text/plain": [
       "18"
      ]
     },
     "execution_count": 55,
     "metadata": {
      "tags": []
     },
     "output_type": "execute_result"
    }
   ],
   "source": [
    "max_tokens = np.mean(num_tokens) + 2 * np.std(num_tokens)\n",
    "max_tokens = int(max_tokens)\n",
    "max_tokens"
   ]
  },
  {
   "cell_type": "code",
   "execution_count": 56,
   "metadata": {
    "colab": {
     "base_uri": "https://localhost:8080/",
     "height": 35
    },
    "colab_type": "code",
    "executionInfo": {
     "elapsed": 1069,
     "status": "ok",
     "timestamp": 1549309840316,
     "user": {
      "displayName": "halil ibrahim çelenli",
      "photoUrl": "https://lh5.googleusercontent.com/-5Qvr42waygs/AAAAAAAAAAI/AAAAAAAAB3U/8_RhbBZokq4/s64/photo.jpg",
      "userId": "10735351276472697566"
     },
     "user_tz": -180
    },
    "id": "ImfrUIIPI_o2",
    "outputId": "063cfe45-88ad-42aa-84bb-479b472c00f8"
   },
   "outputs": [
    {
     "data": {
      "text/plain": [
       "0.9783333333333334"
      ]
     },
     "execution_count": 56,
     "metadata": {
      "tags": []
     },
     "output_type": "execute_result"
    }
   ],
   "source": [
    "#How many of the eighteen length comments are included?\n",
    "\n",
    "np.sum(num_tokens < max_tokens) / len(num_tokens)"
   ]
  },
  {
   "cell_type": "code",
   "execution_count": 0,
   "metadata": {
    "colab": {},
    "colab_type": "code",
    "collapsed": true,
    "id": "XZW_GzGrI_rt"
   },
   "outputs": [],
   "source": [
    "x_train_pad = pad_sequences(x_train_tokens, maxlen=max_tokens)"
   ]
  },
  {
   "cell_type": "code",
   "execution_count": 58,
   "metadata": {
    "colab": {
     "base_uri": "https://localhost:8080/",
     "height": 71
    },
    "colab_type": "code",
    "executionInfo": {
     "elapsed": 757,
     "status": "ok",
     "timestamp": 1549309845822,
     "user": {
      "displayName": "halil ibrahim çelenli",
      "photoUrl": "https://lh5.googleusercontent.com/-5Qvr42waygs/AAAAAAAAAAI/AAAAAAAAB3U/8_RhbBZokq4/s64/photo.jpg",
      "userId": "10735351276472697566"
     },
     "user_tz": -180
    },
    "id": "mf1hT-OxI_uR",
    "outputId": "35678642-ac3d-4bf6-ead9-281705ae4847"
   },
   "outputs": [
    {
     "name": "stdout",
     "output_type": "stream",
     "text": [
      "x_train_tokens : [412, 20, 411, 701, 1, 21, 816, 20, 5287, 168, 1019]\n",
      "x_train_pad : [   0    0    0    0    0    0    0  412   20  411  701    1   21  816\n",
      "   20 5287  168 1019]\n"
     ]
    }
   ],
   "source": [
    "#Zero is added before the values given in the padding operation.\n",
    "\n",
    "print(\"x_train_tokens :\",x_train_tokens[0])\n",
    "print(\"x_train_pad :\",x_train_pad[0])"
   ]
  },
  {
   "cell_type": "code",
   "execution_count": 0,
   "metadata": {
    "colab": {},
    "colab_type": "code",
    "collapsed": true,
    "id": "TXx8LJS7JKG_"
   },
   "outputs": [],
   "source": [
    "x_test_pad = pad_sequences(x_test_tokens, maxlen=max_tokens)"
   ]
  },
  {
   "cell_type": "code",
   "execution_count": 60,
   "metadata": {
    "colab": {
     "base_uri": "https://localhost:8080/",
     "height": 71
    },
    "colab_type": "code",
    "executionInfo": {
     "elapsed": 607,
     "status": "ok",
     "timestamp": 1549309849821,
     "user": {
      "displayName": "halil ibrahim çelenli",
      "photoUrl": "https://lh5.googleusercontent.com/-5Qvr42waygs/AAAAAAAAAAI/AAAAAAAAB3U/8_RhbBZokq4/s64/photo.jpg",
      "userId": "10735351276472697566"
     },
     "user_tz": -180
    },
    "id": "vd0dGLWkJKJo",
    "outputId": "a12d2e72-c956-47f9-f291-1e45c37641f5"
   },
   "outputs": [
    {
     "name": "stdout",
     "output_type": "stream",
     "text": [
      "x_test_tokens : [10053, 175, 162, 946, 1795, 62, 12, 509, 567, 356, 10054, 968, 10055, 12, 313, 692]\n",
      "x_train_pad : [    0     0 10053   175   162   946  1795    62    12   509   567   356\n",
      " 10054   968 10055    12   313   692]\n"
     ]
    }
   ],
   "source": [
    "print(\"x_test_tokens :\",x_test_tokens[0])\n",
    "print(\"x_train_pad :\",x_test_pad[0])"
   ]
  },
  {
   "cell_type": "code",
   "execution_count": 61,
   "metadata": {
    "colab": {
     "base_uri": "https://localhost:8080/",
     "height": 53
    },
    "colab_type": "code",
    "executionInfo": {
     "elapsed": 830,
     "status": "ok",
     "timestamp": 1549309853283,
     "user": {
      "displayName": "halil ibrahim çelenli",
      "photoUrl": "https://lh5.googleusercontent.com/-5Qvr42waygs/AAAAAAAAAAI/AAAAAAAAB3U/8_RhbBZokq4/s64/photo.jpg",
      "userId": "10735351276472697566"
     },
     "user_tz": -180
    },
    "id": "aWAdGznXJKMQ",
    "outputId": "997a2121-f663-4987-a961-a9de6ca64a43"
   },
   "outputs": [
    {
     "name": "stdout",
     "output_type": "stream",
     "text": [
      "x_train_pad.shape : (2400, 18)\n",
      "x_train_pad.shape : (600, 18)\n"
     ]
    }
   ],
   "source": [
    "print(\"x_train_pad.shape :\",x_train_pad.shape)\n",
    "print(\"x_train_pad.shape :\",x_test_pad.shape)"
   ]
  },
  {
   "cell_type": "code",
   "execution_count": 0,
   "metadata": {
    "colab": {},
    "colab_type": "code",
    "collapsed": true,
    "id": "YOvHqW52JKOo"
   },
   "outputs": [],
   "source": [
    "idx = tokenizer.word_index\n",
    "inverse_map = dict(zip(idx.values(), idx.keys()))"
   ]
  },
  {
   "cell_type": "code",
   "execution_count": 0,
   "metadata": {
    "colab": {},
    "colab_type": "code",
    "collapsed": true,
    "id": "S4JAEipCJRHw"
   },
   "outputs": [],
   "source": [
    "def tokens_to_string(tokens):\n",
    "    words = [inverse_map[token] for token in tokens if token!=0]\n",
    "    text = ' '.join(words)\n",
    "    return text"
   ]
  },
  {
   "cell_type": "code",
   "execution_count": 64,
   "metadata": {
    "colab": {
     "base_uri": "https://localhost:8080/",
     "height": 35
    },
    "colab_type": "code",
    "executionInfo": {
     "elapsed": 1046,
     "status": "ok",
     "timestamp": 1549309860564,
     "user": {
      "displayName": "halil ibrahim çelenli",
      "photoUrl": "https://lh5.googleusercontent.com/-5Qvr42waygs/AAAAAAAAAAI/AAAAAAAAB3U/8_RhbBZokq4/s64/photo.jpg",
      "userId": "10735351276472697566"
     },
     "user_tz": -180
    },
    "id": "QnEcHgxTJRKg",
    "outputId": "44da3bdd-393c-4908-b7cb-d04dde39b199"
   },
   "outputs": [
    {
     "data": {
      "text/plain": [
       "'abi birde turkcellle röportaj yapsan cok iyi olur abi yine skytürk tvde yaptigin radyocu programi yapsan olmaz mi'"
      ]
     },
     "execution_count": 64,
     "metadata": {
      "tags": []
     },
     "output_type": "execute_result"
    }
   ],
   "source": [
    "x_train[800]"
   ]
  },
  {
   "cell_type": "code",
   "execution_count": 65,
   "metadata": {
    "colab": {
     "base_uri": "https://localhost:8080/",
     "height": 35
    },
    "colab_type": "code",
    "executionInfo": {
     "elapsed": 1038,
     "status": "ok",
     "timestamp": 1549309863090,
     "user": {
      "displayName": "halil ibrahim çelenli",
      "photoUrl": "https://lh5.googleusercontent.com/-5Qvr42waygs/AAAAAAAAAAI/AAAAAAAAB3U/8_RhbBZokq4/s64/photo.jpg",
      "userId": "10735351276472697566"
     },
     "user_tz": -180
    },
    "id": "0GLX5hNFJRNP",
    "outputId": "70d4cd1f-4b5f-4ad4-e48d-bca8f8626596"
   },
   "outputs": [
    {
     "name": "stdout",
     "output_type": "stream",
     "text": [
      "[113, 348, 214, 5778, 2319, 19, 17, 87, 113, 51, 5779, 5780, 2320, 5781, 5782, 2319, 205, 10]\n"
     ]
    }
   ],
   "source": [
    "print(x_train_tokens[800])"
   ]
  },
  {
   "cell_type": "code",
   "execution_count": 66,
   "metadata": {
    "colab": {
     "base_uri": "https://localhost:8080/",
     "height": 35
    },
    "colab_type": "code",
    "executionInfo": {
     "elapsed": 1062,
     "status": "ok",
     "timestamp": 1549309866188,
     "user": {
      "displayName": "halil ibrahim çelenli",
      "photoUrl": "https://lh5.googleusercontent.com/-5Qvr42waygs/AAAAAAAAAAI/AAAAAAAAB3U/8_RhbBZokq4/s64/photo.jpg",
      "userId": "10735351276472697566"
     },
     "user_tz": -180
    },
    "id": "8qx8ZPl3JRQA",
    "outputId": "f2230044-245e-474d-89b9-392bbbdb957e"
   },
   "outputs": [
    {
     "data": {
      "text/plain": [
       "'abi birde turkcellle röportaj yapsan cok iyi olur abi yine skytürk tvde yaptigin radyocu programi yapsan olmaz mi'"
      ]
     },
     "execution_count": 66,
     "metadata": {
      "tags": []
     },
     "output_type": "execute_result"
    }
   ],
   "source": [
    "tokens_to_string(x_train_tokens[800])"
   ]
  },
  {
   "cell_type": "code",
   "execution_count": 0,
   "metadata": {
    "colab": {},
    "colab_type": "code",
    "collapsed": true,
    "id": "0CvrXrilJRSY"
   },
   "outputs": [],
   "source": [
    "#Embedding operations"
   ]
  },
  {
   "cell_type": "code",
   "execution_count": 0,
   "metadata": {
    "colab": {},
    "colab_type": "code",
    "collapsed": true,
    "id": "ovEJTBGCJYuX"
   },
   "outputs": [],
   "source": [
    "#Save word2vec format (not binary)\n",
    "\n",
    "\"\"\"\n",
    "model = Word2Vec(filtered_stopwords_list)\n",
    "model_save_location = \"3000tweets_notbinary\"\n",
    "model.wv.save_word2vec_format(model_save_location)\n",
    "\"\"\""
   ]
  },
  {
   "cell_type": "code",
   "execution_count": 0,
   "metadata": {
    "colab": {},
    "colab_type": "code",
    "collapsed": true,
    "id": "1MCxxE4wJYz9"
   },
   "outputs": [],
   "source": [
    "embedding_size = 100 "
   ]
  },
  {
   "cell_type": "code",
   "execution_count": 0,
   "metadata": {
    "colab": {},
    "colab_type": "code",
    "collapsed": true,
    "id": "krkz-8WcJY2m"
   },
   "outputs": [],
   "source": [
    "#Word2vec load(2.option) example\n",
    "\n",
    "word2vec = {}\n",
    "with open('3000tweets_notbinary', encoding='UTF-8') as f:\n",
    "    for line in f:\n",
    "        values = line.split()\n",
    "        word = values[0]\n",
    "        vec = np.asarray(values[1:], dtype='float32')\n",
    "        word2vec[word] = vec"
   ]
  },
  {
   "cell_type": "code",
   "execution_count": 69,
   "metadata": {
    "colab": {
     "base_uri": "https://localhost:8080/",
     "height": 71
    },
    "colab_type": "code",
    "executionInfo": {
     "elapsed": 778,
     "status": "ok",
     "timestamp": 1549309881697,
     "user": {
      "displayName": "halil ibrahim çelenli",
      "photoUrl": "https://lh5.googleusercontent.com/-5Qvr42waygs/AAAAAAAAAAI/AAAAAAAAB3U/8_RhbBZokq4/s64/photo.jpg",
      "userId": "10735351276472697566"
     },
     "user_tz": -180
    },
    "id": "ZI1YeCVrJY5G",
    "outputId": "2d2b7839-9767-4cae-ab4e-f7ee3035fb11"
   },
   "outputs": [
    {
     "name": "stdout",
     "output_type": "stream",
     "text": [
      "x_test[0] : turkcell t mi geliyor ben serisinden tırsıyorum ufaktan terminatorü çağrıştırıyor\n",
      "x_test_pad[0] : [    0     0 10053   175   162   946  1795    62    12   509   567   356\n",
      " 10054   968 10055    12   313   692]\n"
     ]
    }
   ],
   "source": [
    "print(\"x_test[0] :\",x_test[40])\n",
    "print(\"x_test_pad[0] :\",x_test_pad[0])"
   ]
  },
  {
   "cell_type": "code",
   "execution_count": 0,
   "metadata": {
    "colab": {},
    "colab_type": "code",
    "collapsed": true,
    "id": "Bwhf_uD4JjZG"
   },
   "outputs": [],
   "source": [
    "num_words = len(list(tokenizer.word_index))"
   ]
  },
  {
   "cell_type": "code",
   "execution_count": 0,
   "metadata": {
    "colab": {},
    "colab_type": "code",
    "collapsed": true,
    "id": "rII_2K-4Jjb1"
   },
   "outputs": [],
   "source": [
    "embedding_matrix = np.random.uniform(-1, 1, (num_words, embedding_size))\n",
    "for word, i in tokenizer.word_index.items():\n",
    "    if i < num_words:\n",
    "        embedding_vector = word2vec.get(word)\n",
    "        if embedding_vector is not None:\n",
    "            embedding_matrix[i] = embedding_vector"
   ]
  },
  {
   "cell_type": "code",
   "execution_count": 72,
   "metadata": {
    "colab": {
     "base_uri": "https://localhost:8080/",
     "height": 35
    },
    "colab_type": "code",
    "executionInfo": {
     "elapsed": 1028,
     "status": "ok",
     "timestamp": 1549309888808,
     "user": {
      "displayName": "halil ibrahim çelenli",
      "photoUrl": "https://lh5.googleusercontent.com/-5Qvr42waygs/AAAAAAAAAAI/AAAAAAAAB3U/8_RhbBZokq4/s64/photo.jpg",
      "userId": "10735351276472697566"
     },
     "user_tz": -180
    },
    "id": "scVyhlS6Jjes",
    "outputId": "94d59966-cc5d-4997-f1ad-7aab2b466031"
   },
   "outputs": [
    {
     "data": {
      "text/plain": [
       "(11905, 100)"
      ]
     },
     "execution_count": 72,
     "metadata": {
      "tags": []
     },
     "output_type": "execute_result"
    }
   ],
   "source": [
    "embedding_matrix.shape"
   ]
  },
  {
   "cell_type": "code",
   "execution_count": 73,
   "metadata": {
    "colab": {
     "base_uri": "https://localhost:8080/",
     "height": 379
    },
    "colab_type": "code",
    "executionInfo": {
     "elapsed": 894,
     "status": "ok",
     "timestamp": 1549309890972,
     "user": {
      "displayName": "halil ibrahim çelenli",
      "photoUrl": "https://lh5.googleusercontent.com/-5Qvr42waygs/AAAAAAAAAAI/AAAAAAAAB3U/8_RhbBZokq4/s64/photo.jpg",
      "userId": "10735351276472697566"
     },
     "user_tz": -180
    },
    "id": "XyTZDTXSJqX2",
    "outputId": "1ed6c9a2-3624-46a0-8230-ae164d302b7a"
   },
   "outputs": [
    {
     "data": {
      "text/plain": [
       "array([ 0.08986612, -0.00983265, -0.06834069,  0.21036609,  0.12450906,\n",
       "        0.10021846, -0.14543779, -0.05969704,  0.01708784,  0.00408125,\n",
       "        0.11804756,  0.13679515, -0.08721917, -0.18287565, -0.04086864,\n",
       "        0.11032961, -0.05940395, -0.10572232, -0.01191167, -0.11670027,\n",
       "        0.04507362, -0.08680133,  0.06382117,  0.11812145,  0.06167458,\n",
       "       -0.09334848, -0.0218655 , -0.15539245, -0.2001535 , -0.09700425,\n",
       "       -0.03025606,  0.10673232, -0.07413075, -0.12416601, -0.06571722,\n",
       "        0.15431167,  0.03929737,  0.09869193,  0.17016847, -0.08498783,\n",
       "       -0.13190085, -0.11170611,  0.20067932, -0.01707822,  0.13537587,\n",
       "       -0.02854906, -0.25869036, -0.2436277 , -0.13429926, -0.10332574,\n",
       "       -0.13679075,  0.01509539, -0.11398716,  0.10181049,  0.23719978,\n",
       "       -0.07496728,  0.04676896,  0.04866217, -0.31362775,  0.04191856,\n",
       "        0.11699729, -0.15392013,  0.11405101,  0.09320572, -0.06823581,\n",
       "       -0.11526767,  0.09690311,  0.19448787,  0.04655581, -0.03985873,\n",
       "        0.09433003,  0.08744358, -0.18196535, -0.06026887, -0.1297318 ,\n",
       "        0.19689572,  0.02808033, -0.23116156, -0.05782082,  0.08946066,\n",
       "       -0.17616494,  0.11406746, -0.15093127,  0.0659005 ,  0.2352794 ,\n",
       "       -0.01293634,  0.13922337, -0.05992468,  0.08047828, -0.22582681,\n",
       "       -0.26361516,  0.18701963,  0.11334373,  0.1567329 ,  0.06536607,\n",
       "        0.10725611,  0.1177247 ,  0.10068008,  0.0477093 ,  0.22064877])"
      ]
     },
     "execution_count": 73,
     "metadata": {
      "tags": []
     },
     "output_type": "execute_result"
    }
   ],
   "source": [
    "embedding_matrix[3]"
   ]
  },
  {
   "cell_type": "code",
   "execution_count": 0,
   "metadata": {
    "colab": {},
    "colab_type": "code",
    "collapsed": true,
    "id": "Qw2-_LoRK1ky"
   },
   "outputs": [],
   "source": [
    "sequence_length = max_tokens\n",
    "vocabulary_size = num_words\n",
    "embedding_dim = embedding_size\n",
    "filter_sizes = [3,4,5]\n",
    "num_filters = 512\n",
    "drop = 0.5"
   ]
  },
  {
   "cell_type": "code",
   "execution_count": 0,
   "metadata": {
    "colab": {},
    "colab_type": "code",
    "collapsed": true,
    "id": "cslMk3bFK1rW"
   },
   "outputs": [],
   "source": [
    "epochs = 5\n",
    "batch_size = 30"
   ]
  },
  {
   "cell_type": "code",
   "execution_count": 0,
   "metadata": {
    "colab": {},
    "colab_type": "code",
    "collapsed": true,
    "id": "SVmhiGFmN08b"
   },
   "outputs": [],
   "source": [
    "y_train2 = []\n",
    "y_test2 = []\n",
    "for i in y_train:\n",
    "  y_train2.append(int(i))\n",
    "for i in y_test:\n",
    "  y_test2.append(int(i))"
   ]
  },
  {
   "cell_type": "code",
   "execution_count": 94,
   "metadata": {
    "colab": {
     "base_uri": "https://localhost:8080/",
     "height": 632
    },
    "colab_type": "code",
    "executionInfo": {
     "elapsed": 7871,
     "status": "ok",
     "timestamp": 1549312956543,
     "user": {
      "displayName": "halil ibrahim çelenli",
      "photoUrl": "https://lh5.googleusercontent.com/-5Qvr42waygs/AAAAAAAAAAI/AAAAAAAAB3U/8_RhbBZokq4/s64/photo.jpg",
      "userId": "10735351276472697566"
     },
     "user_tz": -180
    },
    "id": "5WxB3jXKK17N",
    "outputId": "5f883456-563d-4238-cdbe-20fe77a7fae8"
   },
   "outputs": [
    {
     "name": "stdout",
     "output_type": "stream",
     "text": [
      "training CNN ...\n",
      "_________________________________________________________________\n",
      "Layer (type)                 Output Shape              Param #   \n",
      "=================================================================\n",
      "embedding_layer (Embedding)  (None, 18, 100)           1190500   \n",
      "_________________________________________________________________\n",
      "conv1d_28 (Conv1D)           (None, 18, 64)            44864     \n",
      "_________________________________________________________________\n",
      "max_pooling1d_15 (MaxPooling (None, 9, 64)             0         \n",
      "_________________________________________________________________\n",
      "conv1d_29 (Conv1D)           (None, 9, 64)             28736     \n",
      "_________________________________________________________________\n",
      "global_max_pooling1d_12 (Glo (None, 64)                0         \n",
      "_________________________________________________________________\n",
      "dropout_15 (Dropout)         (None, 64)                0         \n",
      "_________________________________________________________________\n",
      "dense_28 (Dense)             (None, 32)                2080      \n",
      "_________________________________________________________________\n",
      "dense_29 (Dense)             (None, 3)                 99        \n",
      "=================================================================\n",
      "Total params: 1,266,279\n",
      "Trainable params: 1,266,279\n",
      "Non-trainable params: 0\n",
      "_________________________________________________________________\n",
      "Train on 2160 samples, validate on 240 samples\n",
      "Epoch 1/5\n",
      " - 1s - loss: nan - acc: 0.0185 - val_loss: nan - val_acc: 0.0000e+00\n",
      "Epoch 2/5\n",
      " - 0s - loss: nan - acc: 0.0000e+00 - val_loss: nan - val_acc: 0.0000e+00\n",
      "Epoch 3/5\n",
      " - 0s - loss: nan - acc: 0.0000e+00 - val_loss: nan - val_acc: 0.0000e+00\n",
      "Epoch 4/5\n",
      " - 0s - loss: nan - acc: 0.0000e+00 - val_loss: nan - val_acc: 0.0000e+00\n",
      "Epoch 00004: early stopping\n"
     ]
    }
   ],
   "source": [
    "#CNN architecture\n",
    "\n",
    "num_classes = 3\n",
    "\n",
    "#Training params\n",
    "batch_size = 256 \n",
    "num_epochs = 5\n",
    "\n",
    "#Model parameters\n",
    "num_filters = 64  # görüntünün boyutu mesela 512*512\n",
    "embed_dim = embedding_size \n",
    "weight_decay = 1e-4\n",
    "\n",
    "print(\"training CNN ...\")\n",
    "model = Sequential()\n",
    "\n",
    "#Model add word2vec embedding\n",
    "\n",
    "model.add(Embedding(input_dim=num_words,\n",
    "                    output_dim=embedding_size,\n",
    "                    weights= [embedding_matrix],\n",
    "                    input_length=max_tokens,        \n",
    "                    trainable=True,              #the layer is trained\n",
    "                    name='embedding_layer'))\n",
    "model.add(Conv1D(num_filters, 7, activation='relu', padding='same'))\n",
    "model.add(MaxPooling1D(2))\n",
    "model.add(Conv1D(num_filters, 7, activation='relu', padding='same'))\n",
    "model.add(GlobalMaxPooling1D())\n",
    "model.add(Dropout(0.5))\n",
    "model.add(Dense(32, activation='relu', kernel_regularizer=regularizers.l2(weight_decay)))\n",
    "model.add(Dense(num_classes, activation='softmax'))  #multi-label (k-hot encoding)\n",
    "\n",
    "adam = Adam(lr=0.001, beta_1=0.9, beta_2=0.999, epsilon=1e-08, decay=0.0)\n",
    "model.compile(loss='sparse_categorical_crossentropy', optimizer=adam, metrics=['accuracy'])\n",
    "model.summary()\n",
    "\n",
    "\n",
    "\n",
    "#define callbacks\n",
    "early_stopping = EarlyStopping(monitor='val_loss', min_delta=0.01, patience=4, verbose=1)\n",
    "callbacks_list = [early_stopping]\n",
    "\n",
    "\n",
    "hist = model.fit(x_train_pad, y_train2, batch_size=batch_size, epochs=num_epochs, callbacks=callbacks_list, validation_split=0.1, shuffle=True, verbose=2)\n"
   ]
  },
  {
   "cell_type": "markdown",
   "metadata": {
    "colab_type": "text",
    "id": "YMo9qOULXooh"
   },
   "source": [
    "#reference :\n",
    "\n",
    "https://arxiv.org/pdf/1408.5882.pdf\n",
    "\n",
    "http://www.davidsbatista.net/blog/2018/03/31/SentenceClassificationConvNets/\n",
    "\n",
    "https://github.com/davidsbatista/ConvNets-for-sentence-classification/blob/master/Convolutional-Neural-Networks-for-Sentence-Classification.ipynb\n",
    "\n",
    "https://machinelearningmastery.com/develop-n-gram-multichannel-convolutional-neural-network-sentiment-analysis/"
   ]
  }
 ],
 "metadata": {
  "accelerator": "GPU",
  "colab": {
   "collapsed_sections": [],
   "name": "cnn_word2vec_tweets_classification.ipynb",
   "provenance": [],
   "version": "0.3.2"
  },
  "kernelspec": {
   "display_name": "Python 3",
   "language": "python",
   "name": "python3"
  },
  "language_info": {
   "codemirror_mode": {
    "name": "ipython",
    "version": 3
   },
   "file_extension": ".py",
   "mimetype": "text/x-python",
   "name": "python",
   "nbconvert_exporter": "python",
   "pygments_lexer": "ipython3",
   "version": "3.6.4"
  }
 },
 "nbformat": 4,
 "nbformat_minor": 1
}
